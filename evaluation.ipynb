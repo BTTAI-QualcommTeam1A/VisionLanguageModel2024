{
  "metadata": {
    "kernelspec": {
      "name": "python",
      "display_name": "Python (Pyodide)",
      "language": "python"
    },
    "language_info": {
      "codemirror_mode": {
        "name": "python",
        "version": 3
      },
      "file_extension": ".py",
      "mimetype": "text/x-python",
      "name": "python",
      "nbconvert_exporter": "python",
      "pygments_lexer": "ipython3",
      "version": "3.8"
    },
    "colab": {
      "provenance": []
    }
  },
  "nbformat_minor": 0,
  "nbformat": 4,
  "cells": [
    {
      "cell_type": "code",
      "source": [
        "pip install nltk"
      ],
      "metadata": {
        "id": "ykDs6mS50pmd",
        "colab": {
          "base_uri": "https://localhost:8080/"
        },
        "outputId": "52107611-1f73-4605-c427-f9289e862964"
      },
      "execution_count": null,
      "outputs": [
        {
          "output_type": "stream",
          "name": "stdout",
          "text": [
            "Requirement already satisfied: nltk in /usr/local/lib/python3.10/dist-packages (3.9.1)\n",
            "Requirement already satisfied: click in /usr/local/lib/python3.10/dist-packages (from nltk) (8.1.7)\n",
            "Requirement already satisfied: joblib in /usr/local/lib/python3.10/dist-packages (from nltk) (1.4.2)\n",
            "Requirement already satisfied: regex>=2021.8.3 in /usr/local/lib/python3.10/dist-packages (from nltk) (2024.9.11)\n",
            "Requirement already satisfied: tqdm in /usr/local/lib/python3.10/dist-packages (from nltk) (4.66.6)\n"
          ]
        }
      ]
    },
    {
      "cell_type": "code",
      "source": [
        "import matplotlib.pyplot as plt\n",
        "import numpy as np\n",
        "\n",
        "import nltk\n",
        "import itertools\n",
        "import re"
      ],
      "metadata": {
        "id": "jg_8Bf1J0o3I"
      },
      "execution_count": null,
      "outputs": []
    },
    {
      "cell_type": "markdown",
      "source": [
        "Filtering of label and prediction into tokens"
      ],
      "metadata": {
        "id": "04kRyH1h3JOY"
      }
    },
    {
      "cell_type": "markdown",
      "source": [
        "Given a sentence of label and a sentence of prediction, compare them such that the metric indicates accuracy of the generated text being accurate to description. Since this is medical image captioning, importance of sentence can be captured in major description words and medical terminology, such as body parts and diagnosis.\n",
        "\n",
        "1. Filter both label and prediction of stopwords (unneccesary content)\n",
        "2. Extract important words from the label\n",
        "3. Check for presence of important words in the prediction\n",
        "4. Check loss based on that (currently 0 1 loss of existance)"
      ],
      "metadata": {
        "id": "eICmL98l3lqv"
      }
    },
    {
      "cell_type": "code",
      "source": [
        "nltk.download('stopwords', quiet=True)\n",
        "\n",
        "class Tokenize:\n",
        "  def __init__(self):\n",
        "    self._stopwords = list(itertools.islice(stopwords.words('english'), 100)) #grab first 100 stopwords\n",
        "    self._medical = [] #load in medical dictionary\n",
        "\n",
        "  def filter(self, caption: str):\n",
        "    words = re.findall(r'\\b\\w+\\b', caption.lower())\n",
        "    return [word for word in words if word not in self._stopwords]\n",
        "\n",
        "  def extract(self, tokenized_caption: str):\n",
        "    '''Clean the text of stopwords and return important words'''\n",
        "    medical = []\n",
        "    important = []\n",
        "\n",
        "    # for word in words:\n",
        "    #   if word.lower in medical_dictionary:\n",
        "    #     me\n",
        "    return list(set(medical + important))"
      ],
      "metadata": {
        "trusted": true,
        "id": "mHZ4m2CY5Ejy"
      },
      "outputs": [],
      "execution_count": null
    },
    {
      "cell_type": "markdown",
      "source": [
        "Loss metric"
      ],
      "metadata": {
        "id": "CjBryOt-3Omd"
      }
    },
    {
      "cell_type": "code",
      "source": [
        "#loss methods\n",
        "def loss(Filter, original, prediction):\n",
        "  og = set(Filter.filter(original))\n",
        "  pred = set(Filter.filter(prediction))\n",
        "\n",
        "  common_words = og.intersection(pred)\n",
        "\n",
        "  return len(common_words) / len(og)"
      ],
      "metadata": {
        "id": "Y2mcG7eg22Ar"
      },
      "execution_count": 24,
      "outputs": []
    },
    {
      "cell_type": "markdown",
      "source": [
        "Example Usage"
      ],
      "metadata": {
        "id": "Nt3vetfr3F4Y"
      }
    },
    {
      "cell_type": "code",
      "source": [
        "filter = Tokenize()\n",
        "label = \"computed tomography scan of the chest showing a large mass in the right lower lobe of the left lower lobe.\"\n",
        "prediction = \"xray shows a hairline fracture in lower extremity\"\n",
        "\n",
        "print(loss(filter, label, prediction))\n",
        "\n",
        "#information retrieval for data parsing in order to create accurate evaluation metric\n"
      ],
      "metadata": {
        "id": "pVlH3cLh538O",
        "colab": {
          "base_uri": "https://localhost:8080/"
        },
        "outputId": "339eeae0-cf6f-4570-afc2-ac1b262b37d9"
      },
      "execution_count": 28,
      "outputs": [
        {
          "output_type": "stream",
          "name": "stdout",
          "text": [
            "0.09090909090909091\n"
          ]
        }
      ]
    },
    {
      "cell_type": "markdown",
      "source": [
        "TODO:\n",
        "\n",
        "develop better metric/research other metrics\n",
        "\n",
        "medical dictionary, ngrams, synonyms, ordering\n",
        "\n",
        "ensure better runtime of retrieval"
      ],
      "metadata": {
        "id": "HJ_PoZXk3bKW"
      }
    },
    {
      "cell_type": "code",
      "source": [],
      "metadata": {
        "id": "VzlZzp4f48nQ"
      },
      "execution_count": null,
      "outputs": []
    }
  ]
}